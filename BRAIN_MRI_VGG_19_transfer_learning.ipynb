{
  "nbformat": 4,
  "nbformat_minor": 0,
  "metadata": {
    "kernelspec": {
      "display_name": "Python 3",
      "language": "python",
      "name": "python3"
    },
    "language_info": {
      "codemirror_mode": {
        "name": "ipython",
        "version": 3
      },
      "file_extension": ".py",
      "mimetype": "text/x-python",
      "name": "python",
      "nbconvert_exporter": "python",
      "pygments_lexer": "ipython3",
      "version": "3.7.6"
    },
    "colab": {
      "name": "Untitled.ipynb",
      "provenance": [],
      "collapsed_sections": [],
      "toc_visible": true,
      "machine_shape": "hm"
    },
    "accelerator": "GPU"
  },
  "cells": [
    {
      "cell_type": "markdown",
      "metadata": {
        "id": "_uuUx0wM_y_c",
        "colab_type": "text"
      },
      "source": [
        "# Testing of VGG19 on the brain MRI Dataset"
      ]
    },
    {
      "cell_type": "markdown",
      "metadata": {
        "id": "kR_Wic_c_y_e",
        "colab_type": "text"
      },
      "source": [
        "__Authors: Dibyasundar Das, Deepak Ranjan Nayak__\n",
        "\n",
        "__Version: 1.0.0__\n",
        "\n",
        "__Last Modification Date: 10 May 2020__\n",
        "\n",
        "__Last Modified By: Dibyasundar Das__"
      ]
    },
    {
      "cell_type": "markdown",
      "metadata": {
        "id": "_3oNlMWoAJ_v",
        "colab_type": "text"
      },
      "source": [
        "## Mount Google drive"
      ]
    },
    {
      "cell_type": "code",
      "metadata": {
        "id": "GsmWiHd5AAaF",
        "colab_type": "code",
        "outputId": "7a9f3abf-46b4-4e11-8c36-2323d992127a",
        "colab": {
          "base_uri": "https://localhost:8080/",
          "height": 34
        }
      },
      "source": [
        "from google.colab import drive\n",
        "drive.mount('/content/drive')"
      ],
      "execution_count": 1,
      "outputs": [
        {
          "output_type": "stream",
          "text": [
            "Drive already mounted at /content/drive; to attempt to forcibly remount, call drive.mount(\"/content/drive\", force_remount=True).\n"
          ],
          "name": "stdout"
        }
      ]
    },
    {
      "cell_type": "markdown",
      "metadata": {
        "id": "xGKKLW1v_y_f",
        "colab_type": "text"
      },
      "source": [
        "## Impoting all necessary packages"
      ]
    },
    {
      "cell_type": "code",
      "metadata": {
        "id": "F6YoNVjd_y_g",
        "colab_type": "code",
        "outputId": "6846e60b-cc89-46ab-be17-24609894c63e",
        "colab": {
          "base_uri": "https://localhost:8080/",
          "height": 34
        }
      },
      "source": [
        "import numpy as np\n",
        "from keras.applications import VGG19\n",
        "from keras.layers import Dense\n",
        "from keras.models import Model\n",
        "from keras.utils import to_categorical\n",
        "import keras.optimizers as optimizers\n",
        "from sklearn.metrics import accuracy_score, confusion_matrix\n",
        "import matplotlib.pyplot as plt\n",
        "import time\n",
        "import gc"
      ],
      "execution_count": 2,
      "outputs": [
        {
          "output_type": "stream",
          "text": [
            "Using TensorFlow backend.\n"
          ],
          "name": "stderr"
        }
      ]
    },
    {
      "cell_type": "markdown",
      "metadata": {
        "id": "ykB_R8ob_y_l",
        "colab_type": "text"
      },
      "source": [
        "## Reading the dataset, lebels and folds"
      ]
    },
    {
      "cell_type": "code",
      "metadata": {
        "id": "NvpQx0ng_y_m",
        "colab_type": "code",
        "colab": {}
      },
      "source": [
        "data_set = np.load('/content/drive/My Drive/Colab/check.npy',allow_pickle=True)\n",
        "data_set = data_set.item()"
      ],
      "execution_count": 0,
      "outputs": []
    },
    {
      "cell_type": "code",
      "metadata": {
        "id": "A4Q3RIPu_y_p",
        "colab_type": "code",
        "colab": {}
      },
      "source": [
        "images = data_set['image']\n",
        "labels = np.array(data_set['label'])-1\n",
        "fold_id = data_set['fold']"
      ],
      "execution_count": 0,
      "outputs": []
    },
    {
      "cell_type": "code",
      "metadata": {
        "id": "2EQnVMxl_y_t",
        "colab_type": "code",
        "outputId": "7c950763-753c-4735-f424-57e130e58846",
        "colab": {
          "base_uri": "https://localhost:8080/",
          "height": 68
        }
      },
      "source": [
        "# verifying the shape\n",
        "print(images.shape)\n",
        "print(labels.shape)\n",
        "print(fold_id.shape)"
      ],
      "execution_count": 5,
      "outputs": [
        {
          "output_type": "stream",
          "text": [
            "(3064, 224, 224)\n",
            "(3064,)\n",
            "(3064,)\n"
          ],
          "name": "stdout"
        }
      ]
    },
    {
      "cell_type": "markdown",
      "metadata": {
        "id": "r6bJIh0k_y_x",
        "colab_type": "text"
      },
      "source": [
        "## Modifying the dataset shape"
      ]
    },
    {
      "cell_type": "code",
      "metadata": {
        "id": "V1AHcy87_y_y",
        "colab_type": "code",
        "colab": {}
      },
      "source": [
        "images = np.expand_dims(images, axis=3) * 255\n",
        "images = np.repeat(images, 3, axis=3)"
      ],
      "execution_count": 0,
      "outputs": []
    },
    {
      "cell_type": "code",
      "metadata": {
        "id": "i45aGI8t_y_2",
        "colab_type": "code",
        "outputId": "7d5806a1-6b0c-4423-f5d9-5659ad3b4081",
        "colab": {
          "base_uri": "https://localhost:8080/",
          "height": 68
        }
      },
      "source": [
        "# verifying the shape\n",
        "print(images.shape)\n",
        "print(labels.shape)\n",
        "print(fold_id.shape)"
      ],
      "execution_count": 7,
      "outputs": [
        {
          "output_type": "stream",
          "text": [
            "(3064, 224, 224, 3)\n",
            "(3064,)\n",
            "(3064,)\n"
          ],
          "name": "stdout"
        }
      ]
    },
    {
      "cell_type": "markdown",
      "metadata": {
        "id": "BTqWiQy1_y_6",
        "colab_type": "text"
      },
      "source": [
        "## Reading the model and verifying the shape of input"
      ]
    },
    {
      "cell_type": "code",
      "metadata": {
        "id": "9znBP9Mb_y_6",
        "colab_type": "code",
        "colab": {}
      },
      "source": [
        "model=VGG19(include_top=True, weights='imagenet')"
      ],
      "execution_count": 0,
      "outputs": []
    },
    {
      "cell_type": "code",
      "metadata": {
        "id": "52LnOmS9_y_-",
        "colab_type": "code",
        "outputId": "511b5573-bfc5-421b-b1c0-c07241548a43",
        "colab": {
          "base_uri": "https://localhost:8080/",
          "height": 34
        }
      },
      "source": [
        "model.layers[0].output_shape"
      ],
      "execution_count": 9,
      "outputs": [
        {
          "output_type": "execute_result",
          "data": {
            "text/plain": [
              "(None, 224, 224, 3)"
            ]
          },
          "metadata": {
            "tags": []
          },
          "execution_count": 9
        }
      ]
    },
    {
      "cell_type": "markdown",
      "metadata": {
        "id": "8Wxx42wc_zAC",
        "colab_type": "text"
      },
      "source": [
        "## Get structure of model"
      ]
    },
    {
      "cell_type": "code",
      "metadata": {
        "id": "G5juyVy5_zAD",
        "colab_type": "code",
        "outputId": "0c0edb5d-7c2f-4d75-adf0-557faa8ceb5d",
        "colab": {
          "base_uri": "https://localhost:8080/",
          "height": 1000
        }
      },
      "source": [
        "model.summary()"
      ],
      "execution_count": 10,
      "outputs": [
        {
          "output_type": "stream",
          "text": [
            "Model: \"vgg19\"\n",
            "_________________________________________________________________\n",
            "Layer (type)                 Output Shape              Param #   \n",
            "=================================================================\n",
            "input_1 (InputLayer)         (None, 224, 224, 3)       0         \n",
            "_________________________________________________________________\n",
            "block1_conv1 (Conv2D)        (None, 224, 224, 64)      1792      \n",
            "_________________________________________________________________\n",
            "block1_conv2 (Conv2D)        (None, 224, 224, 64)      36928     \n",
            "_________________________________________________________________\n",
            "block1_pool (MaxPooling2D)   (None, 112, 112, 64)      0         \n",
            "_________________________________________________________________\n",
            "block2_conv1 (Conv2D)        (None, 112, 112, 128)     73856     \n",
            "_________________________________________________________________\n",
            "block2_conv2 (Conv2D)        (None, 112, 112, 128)     147584    \n",
            "_________________________________________________________________\n",
            "block2_pool (MaxPooling2D)   (None, 56, 56, 128)       0         \n",
            "_________________________________________________________________\n",
            "block3_conv1 (Conv2D)        (None, 56, 56, 256)       295168    \n",
            "_________________________________________________________________\n",
            "block3_conv2 (Conv2D)        (None, 56, 56, 256)       590080    \n",
            "_________________________________________________________________\n",
            "block3_conv3 (Conv2D)        (None, 56, 56, 256)       590080    \n",
            "_________________________________________________________________\n",
            "block3_conv4 (Conv2D)        (None, 56, 56, 256)       590080    \n",
            "_________________________________________________________________\n",
            "block3_pool (MaxPooling2D)   (None, 28, 28, 256)       0         \n",
            "_________________________________________________________________\n",
            "block4_conv1 (Conv2D)        (None, 28, 28, 512)       1180160   \n",
            "_________________________________________________________________\n",
            "block4_conv2 (Conv2D)        (None, 28, 28, 512)       2359808   \n",
            "_________________________________________________________________\n",
            "block4_conv3 (Conv2D)        (None, 28, 28, 512)       2359808   \n",
            "_________________________________________________________________\n",
            "block4_conv4 (Conv2D)        (None, 28, 28, 512)       2359808   \n",
            "_________________________________________________________________\n",
            "block4_pool (MaxPooling2D)   (None, 14, 14, 512)       0         \n",
            "_________________________________________________________________\n",
            "block5_conv1 (Conv2D)        (None, 14, 14, 512)       2359808   \n",
            "_________________________________________________________________\n",
            "block5_conv2 (Conv2D)        (None, 14, 14, 512)       2359808   \n",
            "_________________________________________________________________\n",
            "block5_conv3 (Conv2D)        (None, 14, 14, 512)       2359808   \n",
            "_________________________________________________________________\n",
            "block5_conv4 (Conv2D)        (None, 14, 14, 512)       2359808   \n",
            "_________________________________________________________________\n",
            "block5_pool (MaxPooling2D)   (None, 7, 7, 512)         0         \n",
            "_________________________________________________________________\n",
            "flatten (Flatten)            (None, 25088)             0         \n",
            "_________________________________________________________________\n",
            "fc1 (Dense)                  (None, 4096)              102764544 \n",
            "_________________________________________________________________\n",
            "fc2 (Dense)                  (None, 4096)              16781312  \n",
            "_________________________________________________________________\n",
            "predictions (Dense)          (None, 1000)              4097000   \n",
            "=================================================================\n",
            "Total params: 143,667,240\n",
            "Trainable params: 143,667,240\n",
            "Non-trainable params: 0\n",
            "_________________________________________________________________\n"
          ],
          "name": "stdout"
        }
      ]
    },
    {
      "cell_type": "markdown",
      "metadata": {
        "id": "uda_f1oa_zAH",
        "colab_type": "text"
      },
      "source": [
        "## Define a function to create a new model"
      ]
    },
    {
      "cell_type": "code",
      "metadata": {
        "id": "CvGBGffX_zAH",
        "colab_type": "code",
        "colab": {}
      },
      "source": [
        "def new_vgg_19_transfer(model):\n",
        "    out = model.layers[-2]\n",
        "    out=Dense(3,activation='softmax', name='prediction')(out.output)\n",
        "    new_model=Model(inputs=model.input,outputs=out, name='Modified VGG 19 model for brain MRI')\n",
        "    for i in range(len(new_model.layers)):\n",
        "        new_model.layers[i].trainable = False\n",
        "    new_model.layers[-1].trainable = True\n",
        "    return new_model"
      ],
      "execution_count": 0,
      "outputs": []
    },
    {
      "cell_type": "markdown",
      "metadata": {
        "id": "Cs1eI0vS_zAL",
        "colab_type": "text"
      },
      "source": [
        "## Testing structure of new model"
      ]
    },
    {
      "cell_type": "code",
      "metadata": {
        "id": "oyipm39d_zAM",
        "colab_type": "code",
        "outputId": "690b7251-49e2-4e9d-87b4-b3aac85792b9",
        "colab": {
          "base_uri": "https://localhost:8080/",
          "height": 1000
        }
      },
      "source": [
        "new_model=new_vgg_19_transfer(model)\n",
        "new_model.summary()"
      ],
      "execution_count": 12,
      "outputs": [
        {
          "output_type": "stream",
          "text": [
            "Model: \"Modified VGG 19 model for brain MRI\"\n",
            "_________________________________________________________________\n",
            "Layer (type)                 Output Shape              Param #   \n",
            "=================================================================\n",
            "input_1 (InputLayer)         (None, 224, 224, 3)       0         \n",
            "_________________________________________________________________\n",
            "block1_conv1 (Conv2D)        (None, 224, 224, 64)      1792      \n",
            "_________________________________________________________________\n",
            "block1_conv2 (Conv2D)        (None, 224, 224, 64)      36928     \n",
            "_________________________________________________________________\n",
            "block1_pool (MaxPooling2D)   (None, 112, 112, 64)      0         \n",
            "_________________________________________________________________\n",
            "block2_conv1 (Conv2D)        (None, 112, 112, 128)     73856     \n",
            "_________________________________________________________________\n",
            "block2_conv2 (Conv2D)        (None, 112, 112, 128)     147584    \n",
            "_________________________________________________________________\n",
            "block2_pool (MaxPooling2D)   (None, 56, 56, 128)       0         \n",
            "_________________________________________________________________\n",
            "block3_conv1 (Conv2D)        (None, 56, 56, 256)       295168    \n",
            "_________________________________________________________________\n",
            "block3_conv2 (Conv2D)        (None, 56, 56, 256)       590080    \n",
            "_________________________________________________________________\n",
            "block3_conv3 (Conv2D)        (None, 56, 56, 256)       590080    \n",
            "_________________________________________________________________\n",
            "block3_conv4 (Conv2D)        (None, 56, 56, 256)       590080    \n",
            "_________________________________________________________________\n",
            "block3_pool (MaxPooling2D)   (None, 28, 28, 256)       0         \n",
            "_________________________________________________________________\n",
            "block4_conv1 (Conv2D)        (None, 28, 28, 512)       1180160   \n",
            "_________________________________________________________________\n",
            "block4_conv2 (Conv2D)        (None, 28, 28, 512)       2359808   \n",
            "_________________________________________________________________\n",
            "block4_conv3 (Conv2D)        (None, 28, 28, 512)       2359808   \n",
            "_________________________________________________________________\n",
            "block4_conv4 (Conv2D)        (None, 28, 28, 512)       2359808   \n",
            "_________________________________________________________________\n",
            "block4_pool (MaxPooling2D)   (None, 14, 14, 512)       0         \n",
            "_________________________________________________________________\n",
            "block5_conv1 (Conv2D)        (None, 14, 14, 512)       2359808   \n",
            "_________________________________________________________________\n",
            "block5_conv2 (Conv2D)        (None, 14, 14, 512)       2359808   \n",
            "_________________________________________________________________\n",
            "block5_conv3 (Conv2D)        (None, 14, 14, 512)       2359808   \n",
            "_________________________________________________________________\n",
            "block5_conv4 (Conv2D)        (None, 14, 14, 512)       2359808   \n",
            "_________________________________________________________________\n",
            "block5_pool (MaxPooling2D)   (None, 7, 7, 512)         0         \n",
            "_________________________________________________________________\n",
            "flatten (Flatten)            (None, 25088)             0         \n",
            "_________________________________________________________________\n",
            "fc1 (Dense)                  (None, 4096)              102764544 \n",
            "_________________________________________________________________\n",
            "fc2 (Dense)                  (None, 4096)              16781312  \n",
            "_________________________________________________________________\n",
            "prediction (Dense)           (None, 3)                 12291     \n",
            "=================================================================\n",
            "Total params: 139,582,531\n",
            "Trainable params: 12,291\n",
            "Non-trainable params: 139,570,240\n",
            "_________________________________________________________________\n"
          ],
          "name": "stdout"
        }
      ]
    },
    {
      "cell_type": "markdown",
      "metadata": {
        "id": "0qnKrMwh_zAR",
        "colab_type": "text"
      },
      "source": [
        "## Testing if the respective weights are loaded"
      ]
    },
    {
      "cell_type": "code",
      "metadata": {
        "id": "dJVMfRlv_zAS",
        "colab_type": "code",
        "outputId": "bc667b4a-065c-46ad-acd0-92d3f66134b3",
        "colab": {
          "base_uri": "https://localhost:8080/",
          "height": 459
        }
      },
      "source": [
        "for i in range(len(model.layers)):\n",
        "    if model.layers[i].weights == new_model.layers[i].weights:\n",
        "        print(model.layers[i].name + '   :   ' + str(1))\n",
        "    else:\n",
        "        print(model.layers[i].name + '   :   ' + str(0))"
      ],
      "execution_count": 13,
      "outputs": [
        {
          "output_type": "stream",
          "text": [
            "input_1   :   1\n",
            "block1_conv1   :   1\n",
            "block1_conv2   :   1\n",
            "block1_pool   :   1\n",
            "block2_conv1   :   1\n",
            "block2_conv2   :   1\n",
            "block2_pool   :   1\n",
            "block3_conv1   :   1\n",
            "block3_conv2   :   1\n",
            "block3_conv3   :   1\n",
            "block3_conv4   :   1\n",
            "block3_pool   :   1\n",
            "block4_conv1   :   1\n",
            "block4_conv2   :   1\n",
            "block4_conv3   :   1\n",
            "block4_conv4   :   1\n",
            "block4_pool   :   1\n",
            "block5_conv1   :   1\n",
            "block5_conv2   :   1\n",
            "block5_conv3   :   1\n",
            "block5_conv4   :   1\n",
            "block5_pool   :   1\n",
            "flatten   :   1\n",
            "fc1   :   1\n",
            "fc2   :   1\n",
            "predictions   :   0\n"
          ],
          "name": "stdout"
        }
      ]
    },
    {
      "cell_type": "markdown",
      "metadata": {
        "id": "0OOuuG4k_zAW",
        "colab_type": "text"
      },
      "source": [
        "## Define a function for fold devision"
      ]
    },
    {
      "cell_type": "code",
      "metadata": {
        "id": "vyPmiNAg_zAX",
        "colab_type": "code",
        "colab": {}
      },
      "source": [
        "def fold_devide_train_test(images, labels, fold_id, current_id):\n",
        "    train_images = images[fold_id != current_id,:,:,:]\n",
        "    train_label = labels[fold_id != current_id]\n",
        "    test_images = images[fold_id == current_id,:,:,:]\n",
        "    test_label = labels[fold_id == current_id]\n",
        "    return train_images, train_label, test_images, test_label"
      ],
      "execution_count": 0,
      "outputs": []
    },
    {
      "cell_type": "markdown",
      "metadata": {
        "id": "vYNunyrwDvbs",
        "colab_type": "text"
      },
      "source": [
        "## Traing and testing code"
      ]
    },
    {
      "cell_type": "code",
      "metadata": {
        "id": "pVOUUM2y_zAa",
        "colab_type": "code",
        "outputId": "d17e005f-ca6c-4f2b-8729-9e6238e78930",
        "colab": {
          "base_uri": "https://localhost:8080/",
          "height": 1000
        }
      },
      "source": [
        "batch=20\n",
        "epoch=50\n",
        "fold_wise_train_time=[]\n",
        "fold_wise_test_time=[]\n",
        "fold_wise_history=[]\n",
        "fold_wise_confusion=[]\n",
        "fold_wise_accuracy=[]\n",
        "for current_id in np.arange(1,6,1):\n",
        "    train_images, train_label, test_images, test_label = fold_devide_train_test(images, labels, fold_id, current_id)\n",
        "    new_model = new_model=new_vgg_19_transfer(model)\n",
        "    new_model.compile(optimizer=optimizers.Adam(learning_rate=0.0001,  decay=0.00005), loss='mse', metrics=['accuracy'])\n",
        "    train_label_cat = to_categorical(train_label)\n",
        "    start=time.time()\n",
        "    hist = new_model.fit(train_images,train_label_cat, batch_size=batch, epochs=epoch )\n",
        "    end=time.time()\n",
        "    fold_wise_train_time.append(end-start)\n",
        "    start=time.time()\n",
        "    prediction_prob = new_model.predict(test_images, batch_size=batch)\n",
        "    end=time.time()\n",
        "    fold_wise_test_time.append(end-start)\n",
        "    obt_test_label = np.argmax(prediction_prob,1)\n",
        "    fold_wise_accuracy.append(accuracy_score(test_label,obt_test_label))\n",
        "    print(accuracy_score(test_label,obt_test_label))\n",
        "    fold_wise_confusion.append(confusion_matrix(test_label,obt_test_label))\n",
        "    fold_wise_history.append(hist.history)\n",
        "    del([train_images, train_label, test_images, test_label])\n",
        "    gc.collect()"
      ],
      "execution_count": 15,
      "outputs": [
        {
          "output_type": "stream",
          "text": [
            "Epoch 1/50\n",
            "2522/2522 [==============================] - 18s 7ms/step - loss: 0.1645 - accuracy: 0.6416\n",
            "Epoch 2/50\n",
            "2522/2522 [==============================] - 11s 4ms/step - loss: 0.1032 - accuracy: 0.7815\n",
            "Epoch 3/50\n",
            "2522/2522 [==============================] - 11s 4ms/step - loss: 0.0880 - accuracy: 0.8144\n",
            "Epoch 4/50\n",
            "2522/2522 [==============================] - 11s 4ms/step - loss: 0.0805 - accuracy: 0.8307\n",
            "Epoch 5/50\n",
            "2522/2522 [==============================] - 11s 4ms/step - loss: 0.0726 - accuracy: 0.8469\n",
            "Epoch 6/50\n",
            "2522/2522 [==============================] - 11s 4ms/step - loss: 0.0689 - accuracy: 0.8573\n",
            "Epoch 7/50\n",
            "2522/2522 [==============================] - 11s 4ms/step - loss: 0.0648 - accuracy: 0.8668\n",
            "Epoch 8/50\n",
            "2522/2522 [==============================] - 11s 4ms/step - loss: 0.0628 - accuracy: 0.8751\n",
            "Epoch 9/50\n",
            "2522/2522 [==============================] - 11s 4ms/step - loss: 0.0583 - accuracy: 0.8898\n",
            "Epoch 10/50\n",
            "2522/2522 [==============================] - 11s 4ms/step - loss: 0.0556 - accuracy: 0.9009\n",
            "Epoch 11/50\n",
            "2522/2522 [==============================] - 11s 4ms/step - loss: 0.0537 - accuracy: 0.9009\n",
            "Epoch 12/50\n",
            "2522/2522 [==============================] - 11s 4ms/step - loss: 0.0521 - accuracy: 0.9072\n",
            "Epoch 13/50\n",
            "2522/2522 [==============================] - 11s 4ms/step - loss: 0.0499 - accuracy: 0.9080\n",
            "Epoch 14/50\n",
            "2522/2522 [==============================] - 11s 4ms/step - loss: 0.0481 - accuracy: 0.9199\n",
            "Epoch 15/50\n",
            "2522/2522 [==============================] - 11s 4ms/step - loss: 0.0469 - accuracy: 0.9171\n",
            "Epoch 16/50\n",
            "2522/2522 [==============================] - 11s 4ms/step - loss: 0.0452 - accuracy: 0.9251\n",
            "Epoch 17/50\n",
            "2522/2522 [==============================] - 11s 4ms/step - loss: 0.0447 - accuracy: 0.9247\n",
            "Epoch 18/50\n",
            "2522/2522 [==============================] - 11s 4ms/step - loss: 0.0428 - accuracy: 0.9251\n",
            "Epoch 19/50\n",
            "2522/2522 [==============================] - 11s 4ms/step - loss: 0.0419 - accuracy: 0.9318\n",
            "Epoch 20/50\n",
            "2522/2522 [==============================] - 11s 4ms/step - loss: 0.0399 - accuracy: 0.9330\n",
            "Epoch 21/50\n",
            "2522/2522 [==============================] - 11s 4ms/step - loss: 0.0390 - accuracy: 0.9377\n",
            "Epoch 22/50\n",
            "2522/2522 [==============================] - 11s 4ms/step - loss: 0.0390 - accuracy: 0.9366\n",
            "Epoch 23/50\n",
            "2522/2522 [==============================] - 11s 4ms/step - loss: 0.0375 - accuracy: 0.9409\n",
            "Epoch 24/50\n",
            "2522/2522 [==============================] - 11s 4ms/step - loss: 0.0363 - accuracy: 0.9449\n",
            "Epoch 25/50\n",
            "2522/2522 [==============================] - 11s 4ms/step - loss: 0.0355 - accuracy: 0.9441\n",
            "Epoch 26/50\n",
            "2522/2522 [==============================] - 11s 4ms/step - loss: 0.0350 - accuracy: 0.9413\n",
            "Epoch 27/50\n",
            "2522/2522 [==============================] - 11s 4ms/step - loss: 0.0342 - accuracy: 0.9477\n",
            "Epoch 28/50\n",
            "2522/2522 [==============================] - 11s 4ms/step - loss: 0.0329 - accuracy: 0.9504\n",
            "Epoch 29/50\n",
            "2522/2522 [==============================] - 11s 4ms/step - loss: 0.0324 - accuracy: 0.9496\n",
            "Epoch 30/50\n",
            "2522/2522 [==============================] - 11s 4ms/step - loss: 0.0315 - accuracy: 0.9508\n",
            "Epoch 31/50\n",
            "2522/2522 [==============================] - 11s 4ms/step - loss: 0.0311 - accuracy: 0.9536\n",
            "Epoch 32/50\n",
            "2522/2522 [==============================] - 11s 4ms/step - loss: 0.0303 - accuracy: 0.9584\n",
            "Epoch 33/50\n",
            "2522/2522 [==============================] - 11s 4ms/step - loss: 0.0301 - accuracy: 0.9556\n",
            "Epoch 34/50\n",
            "2522/2522 [==============================] - 11s 4ms/step - loss: 0.0291 - accuracy: 0.9592\n",
            "Epoch 35/50\n",
            "2522/2522 [==============================] - 11s 4ms/step - loss: 0.0285 - accuracy: 0.9603\n",
            "Epoch 36/50\n",
            "2522/2522 [==============================] - 11s 4ms/step - loss: 0.0276 - accuracy: 0.9607\n",
            "Epoch 37/50\n",
            "2522/2522 [==============================] - 11s 4ms/step - loss: 0.0271 - accuracy: 0.9623\n",
            "Epoch 38/50\n",
            "2522/2522 [==============================] - 11s 4ms/step - loss: 0.0264 - accuracy: 0.9667\n",
            "Epoch 39/50\n",
            "2522/2522 [==============================] - 11s 4ms/step - loss: 0.0255 - accuracy: 0.9671\n",
            "Epoch 40/50\n",
            "2522/2522 [==============================] - 11s 4ms/step - loss: 0.0254 - accuracy: 0.9675\n",
            "Epoch 41/50\n",
            "2522/2522 [==============================] - 11s 4ms/step - loss: 0.0249 - accuracy: 0.9687\n",
            "Epoch 42/50\n",
            "2522/2522 [==============================] - 11s 4ms/step - loss: 0.0246 - accuracy: 0.9695\n",
            "Epoch 43/50\n",
            "2522/2522 [==============================] - 11s 4ms/step - loss: 0.0237 - accuracy: 0.9726\n",
            "Epoch 44/50\n",
            "2522/2522 [==============================] - 11s 4ms/step - loss: 0.0241 - accuracy: 0.9711\n",
            "Epoch 45/50\n",
            "2522/2522 [==============================] - 11s 4ms/step - loss: 0.0227 - accuracy: 0.9722\n",
            "Epoch 46/50\n",
            "2522/2522 [==============================] - 11s 4ms/step - loss: 0.0226 - accuracy: 0.9754\n",
            "Epoch 47/50\n",
            "2522/2522 [==============================] - 11s 4ms/step - loss: 0.0219 - accuracy: 0.9738\n",
            "Epoch 48/50\n",
            "2522/2522 [==============================] - 11s 4ms/step - loss: 0.0213 - accuracy: 0.9794\n",
            "Epoch 49/50\n",
            "2522/2522 [==============================] - 11s 4ms/step - loss: 0.0207 - accuracy: 0.9782\n",
            "Epoch 50/50\n",
            "2522/2522 [==============================] - 11s 4ms/step - loss: 0.0205 - accuracy: 0.9770\n",
            "0.8708487084870848\n",
            "Epoch 1/50\n",
            "2385/2385 [==============================] - 11s 4ms/step - loss: 0.1580 - accuracy: 0.6541\n",
            "Epoch 2/50\n",
            "2385/2385 [==============================] - 10s 4ms/step - loss: 0.0947 - accuracy: 0.8029\n",
            "Epoch 3/50\n",
            "2385/2385 [==============================] - 10s 4ms/step - loss: 0.0790 - accuracy: 0.8403\n",
            "Epoch 4/50\n",
            "2385/2385 [==============================] - 10s 4ms/step - loss: 0.0714 - accuracy: 0.8516\n",
            "Epoch 5/50\n",
            "2385/2385 [==============================] - 10s 4ms/step - loss: 0.0657 - accuracy: 0.8692\n",
            "Epoch 6/50\n",
            "2385/2385 [==============================] - 10s 4ms/step - loss: 0.0618 - accuracy: 0.8792\n",
            "Epoch 7/50\n",
            "2385/2385 [==============================] - 10s 4ms/step - loss: 0.0578 - accuracy: 0.8893\n",
            "Epoch 8/50\n",
            "2385/2385 [==============================] - 10s 4ms/step - loss: 0.0561 - accuracy: 0.8910\n",
            "Epoch 9/50\n",
            "2385/2385 [==============================] - 10s 4ms/step - loss: 0.0536 - accuracy: 0.8990\n",
            "Epoch 10/50\n",
            "2385/2385 [==============================] - 10s 4ms/step - loss: 0.0506 - accuracy: 0.9019\n",
            "Epoch 11/50\n",
            "2385/2385 [==============================] - 10s 4ms/step - loss: 0.0494 - accuracy: 0.9082\n",
            "Epoch 12/50\n",
            "2385/2385 [==============================] - 10s 4ms/step - loss: 0.0463 - accuracy: 0.9161\n",
            "Epoch 13/50\n",
            "2385/2385 [==============================] - 10s 4ms/step - loss: 0.0455 - accuracy: 0.9178\n",
            "Epoch 14/50\n",
            "2385/2385 [==============================] - 10s 4ms/step - loss: 0.0433 - accuracy: 0.9275\n",
            "Epoch 15/50\n",
            "2385/2385 [==============================] - 10s 4ms/step - loss: 0.0421 - accuracy: 0.9291\n",
            "Epoch 16/50\n",
            "2385/2385 [==============================] - 10s 4ms/step - loss: 0.0410 - accuracy: 0.9321\n",
            "Epoch 17/50\n",
            "2385/2385 [==============================] - 10s 4ms/step - loss: 0.0400 - accuracy: 0.9333\n",
            "Epoch 18/50\n",
            "2385/2385 [==============================] - 10s 4ms/step - loss: 0.0383 - accuracy: 0.9396\n",
            "Epoch 19/50\n",
            "2385/2385 [==============================] - 10s 4ms/step - loss: 0.0381 - accuracy: 0.9375\n",
            "Epoch 20/50\n",
            "2385/2385 [==============================] - 10s 4ms/step - loss: 0.0362 - accuracy: 0.9438\n",
            "Epoch 21/50\n",
            "2385/2385 [==============================] - 10s 4ms/step - loss: 0.0357 - accuracy: 0.9447\n",
            "Epoch 22/50\n",
            "2385/2385 [==============================] - 10s 4ms/step - loss: 0.0341 - accuracy: 0.9488\n",
            "Epoch 23/50\n",
            "2385/2385 [==============================] - 10s 4ms/step - loss: 0.0342 - accuracy: 0.9493\n",
            "Epoch 24/50\n",
            "2385/2385 [==============================] - 10s 4ms/step - loss: 0.0328 - accuracy: 0.9463\n",
            "Epoch 25/50\n",
            "2385/2385 [==============================] - 10s 4ms/step - loss: 0.0316 - accuracy: 0.9572\n",
            "Epoch 26/50\n",
            "2385/2385 [==============================] - 10s 4ms/step - loss: 0.0312 - accuracy: 0.9518\n",
            "Epoch 27/50\n",
            "2385/2385 [==============================] - 10s 4ms/step - loss: 0.0311 - accuracy: 0.9514\n",
            "Epoch 28/50\n",
            "2385/2385 [==============================] - 10s 4ms/step - loss: 0.0294 - accuracy: 0.9593\n",
            "Epoch 29/50\n",
            "2385/2385 [==============================] - 10s 4ms/step - loss: 0.0292 - accuracy: 0.9564\n",
            "Epoch 30/50\n",
            "2385/2385 [==============================] - 10s 4ms/step - loss: 0.0280 - accuracy: 0.9627\n",
            "Epoch 31/50\n",
            "2385/2385 [==============================] - 10s 4ms/step - loss: 0.0272 - accuracy: 0.9627\n",
            "Epoch 32/50\n",
            "2385/2385 [==============================] - 10s 4ms/step - loss: 0.0270 - accuracy: 0.9656\n",
            "Epoch 33/50\n",
            "2385/2385 [==============================] - 10s 4ms/step - loss: 0.0258 - accuracy: 0.9656\n",
            "Epoch 34/50\n",
            "2385/2385 [==============================] - 10s 4ms/step - loss: 0.0253 - accuracy: 0.9681\n",
            "Epoch 35/50\n",
            "2385/2385 [==============================] - 10s 4ms/step - loss: 0.0251 - accuracy: 0.9639\n",
            "Epoch 36/50\n",
            "2385/2385 [==============================] - 10s 4ms/step - loss: 0.0243 - accuracy: 0.9706\n",
            "Epoch 37/50\n",
            "2385/2385 [==============================] - 10s 4ms/step - loss: 0.0241 - accuracy: 0.9681\n",
            "Epoch 38/50\n",
            "2385/2385 [==============================] - 10s 4ms/step - loss: 0.0229 - accuracy: 0.9715\n",
            "Epoch 39/50\n",
            "2385/2385 [==============================] - 10s 4ms/step - loss: 0.0227 - accuracy: 0.9719\n",
            "Epoch 40/50\n",
            "2385/2385 [==============================] - 10s 4ms/step - loss: 0.0220 - accuracy: 0.9732\n",
            "Epoch 41/50\n",
            "2385/2385 [==============================] - 10s 4ms/step - loss: 0.0217 - accuracy: 0.9757\n",
            "Epoch 42/50\n",
            "2385/2385 [==============================] - 10s 4ms/step - loss: 0.0211 - accuracy: 0.9765\n",
            "Epoch 43/50\n",
            "2385/2385 [==============================] - 10s 4ms/step - loss: 0.0208 - accuracy: 0.9753\n",
            "Epoch 44/50\n",
            "2385/2385 [==============================] - 10s 4ms/step - loss: 0.0201 - accuracy: 0.9774\n",
            "Epoch 45/50\n",
            "2385/2385 [==============================] - 10s 4ms/step - loss: 0.0198 - accuracy: 0.9799\n",
            "Epoch 46/50\n",
            "2385/2385 [==============================] - 10s 4ms/step - loss: 0.0194 - accuracy: 0.9807\n",
            "Epoch 47/50\n",
            "2385/2385 [==============================] - 10s 4ms/step - loss: 0.0190 - accuracy: 0.9786\n",
            "Epoch 48/50\n",
            "2385/2385 [==============================] - 10s 4ms/step - loss: 0.0189 - accuracy: 0.9790\n",
            "Epoch 49/50\n",
            "2385/2385 [==============================] - 10s 4ms/step - loss: 0.0183 - accuracy: 0.9811\n",
            "Epoch 50/50\n",
            "2385/2385 [==============================] - 10s 4ms/step - loss: 0.0179 - accuracy: 0.9845\n",
            "0.8159057437407953\n",
            "Epoch 1/50\n",
            "2492/2492 [==============================] - 11s 4ms/step - loss: 0.1582 - accuracy: 0.6453\n",
            "Epoch 2/50\n",
            "2492/2492 [==============================] - 11s 4ms/step - loss: 0.0932 - accuracy: 0.8110\n",
            "Epoch 3/50\n",
            "2492/2492 [==============================] - 11s 4ms/step - loss: 0.0792 - accuracy: 0.8383\n",
            "Epoch 4/50\n",
            "2492/2492 [==============================] - 11s 4ms/step - loss: 0.0724 - accuracy: 0.8583\n",
            "Epoch 5/50\n",
            "2492/2492 [==============================] - 11s 4ms/step - loss: 0.0652 - accuracy: 0.8732\n",
            "Epoch 6/50\n",
            "2492/2492 [==============================] - 11s 4ms/step - loss: 0.0610 - accuracy: 0.8820\n",
            "Epoch 7/50\n",
            "2492/2492 [==============================] - 11s 4ms/step - loss: 0.0579 - accuracy: 0.8876\n",
            "Epoch 8/50\n",
            "2492/2492 [==============================] - 11s 4ms/step - loss: 0.0549 - accuracy: 0.8961\n",
            "Epoch 9/50\n",
            "2492/2492 [==============================] - 11s 4ms/step - loss: 0.0526 - accuracy: 0.9041\n",
            "Epoch 10/50\n",
            "2492/2492 [==============================] - 11s 4ms/step - loss: 0.0502 - accuracy: 0.9077\n",
            "Epoch 11/50\n",
            "2492/2492 [==============================] - 11s 4ms/step - loss: 0.0480 - accuracy: 0.9105\n",
            "Epoch 12/50\n",
            "2492/2492 [==============================] - 11s 4ms/step - loss: 0.0463 - accuracy: 0.9141\n",
            "Epoch 13/50\n",
            "2492/2492 [==============================] - 11s 4ms/step - loss: 0.0445 - accuracy: 0.9217\n",
            "Epoch 14/50\n",
            "2492/2492 [==============================] - 11s 4ms/step - loss: 0.0429 - accuracy: 0.9266\n",
            "Epoch 15/50\n",
            "2492/2492 [==============================] - 11s 4ms/step - loss: 0.0415 - accuracy: 0.9266\n",
            "Epoch 16/50\n",
            "2492/2492 [==============================] - 11s 4ms/step - loss: 0.0400 - accuracy: 0.9366\n",
            "Epoch 17/50\n",
            "2492/2492 [==============================] - 11s 4ms/step - loss: 0.0394 - accuracy: 0.9326\n",
            "Epoch 18/50\n",
            "2492/2492 [==============================] - 11s 4ms/step - loss: 0.0376 - accuracy: 0.9382\n",
            "Epoch 19/50\n",
            "2492/2492 [==============================] - 11s 4ms/step - loss: 0.0370 - accuracy: 0.9438\n",
            "Epoch 20/50\n",
            "2492/2492 [==============================] - 11s 4ms/step - loss: 0.0357 - accuracy: 0.9414\n",
            "Epoch 21/50\n",
            "2492/2492 [==============================] - 11s 4ms/step - loss: 0.0346 - accuracy: 0.9470\n",
            "Epoch 22/50\n",
            "2492/2492 [==============================] - 10s 4ms/step - loss: 0.0336 - accuracy: 0.9482\n",
            "Epoch 23/50\n",
            "2492/2492 [==============================] - 10s 4ms/step - loss: 0.0329 - accuracy: 0.9474\n",
            "Epoch 24/50\n",
            "2492/2492 [==============================] - 11s 4ms/step - loss: 0.0316 - accuracy: 0.9543\n",
            "Epoch 25/50\n",
            "2492/2492 [==============================] - 10s 4ms/step - loss: 0.0308 - accuracy: 0.9526\n",
            "Epoch 26/50\n",
            "2492/2492 [==============================] - 10s 4ms/step - loss: 0.0298 - accuracy: 0.9543\n",
            "Epoch 27/50\n",
            "2492/2492 [==============================] - 10s 4ms/step - loss: 0.0294 - accuracy: 0.9571\n",
            "Epoch 28/50\n",
            "2492/2492 [==============================] - 11s 4ms/step - loss: 0.0288 - accuracy: 0.9583\n",
            "Epoch 29/50\n",
            "2492/2492 [==============================] - 10s 4ms/step - loss: 0.0281 - accuracy: 0.9583\n",
            "Epoch 30/50\n",
            "2492/2492 [==============================] - 10s 4ms/step - loss: 0.0273 - accuracy: 0.9647\n",
            "Epoch 31/50\n",
            "2492/2492 [==============================] - 10s 4ms/step - loss: 0.0272 - accuracy: 0.9619\n",
            "Epoch 32/50\n",
            "2492/2492 [==============================] - 10s 4ms/step - loss: 0.0264 - accuracy: 0.9647\n",
            "Epoch 33/50\n",
            "2492/2492 [==============================] - 10s 4ms/step - loss: 0.0259 - accuracy: 0.9627\n",
            "Epoch 34/50\n",
            "2492/2492 [==============================] - 10s 4ms/step - loss: 0.0247 - accuracy: 0.9691\n",
            "Epoch 35/50\n",
            "2492/2492 [==============================] - 10s 4ms/step - loss: 0.0240 - accuracy: 0.9699\n",
            "Epoch 36/50\n",
            "2492/2492 [==============================] - 10s 4ms/step - loss: 0.0235 - accuracy: 0.9703\n",
            "Epoch 37/50\n",
            "2492/2492 [==============================] - 10s 4ms/step - loss: 0.0232 - accuracy: 0.9703\n",
            "Epoch 38/50\n",
            "2492/2492 [==============================] - 10s 4ms/step - loss: 0.0227 - accuracy: 0.9723\n",
            "Epoch 39/50\n",
            "2492/2492 [==============================] - 10s 4ms/step - loss: 0.0217 - accuracy: 0.9755\n",
            "Epoch 40/50\n",
            "2492/2492 [==============================] - 10s 4ms/step - loss: 0.0217 - accuracy: 0.9763\n",
            "Epoch 41/50\n",
            "2492/2492 [==============================] - 10s 4ms/step - loss: 0.0211 - accuracy: 0.9771\n",
            "Epoch 42/50\n",
            "2492/2492 [==============================] - 11s 4ms/step - loss: 0.0204 - accuracy: 0.9783\n",
            "Epoch 43/50\n",
            "2492/2492 [==============================] - 11s 4ms/step - loss: 0.0203 - accuracy: 0.9787\n",
            "Epoch 44/50\n",
            "2492/2492 [==============================] - 10s 4ms/step - loss: 0.0198 - accuracy: 0.9763\n",
            "Epoch 45/50\n",
            "2492/2492 [==============================] - 11s 4ms/step - loss: 0.0192 - accuracy: 0.9811\n",
            "Epoch 46/50\n",
            "2492/2492 [==============================] - 11s 4ms/step - loss: 0.0189 - accuracy: 0.9795\n",
            "Epoch 47/50\n",
            "2492/2492 [==============================] - 10s 4ms/step - loss: 0.0183 - accuracy: 0.9803\n",
            "Epoch 48/50\n",
            "2492/2492 [==============================] - 10s 4ms/step - loss: 0.0180 - accuracy: 0.9819\n",
            "Epoch 49/50\n",
            "2492/2492 [==============================] - 10s 4ms/step - loss: 0.0175 - accuracy: 0.9839\n",
            "Epoch 50/50\n",
            "2492/2492 [==============================] - 10s 4ms/step - loss: 0.0175 - accuracy: 0.9807\n",
            "0.8321678321678322\n",
            "Epoch 1/50\n",
            "2436/2436 [==============================] - 11s 4ms/step - loss: 0.1725 - accuracy: 0.6129\n",
            "Epoch 2/50\n",
            "2436/2436 [==============================] - 10s 4ms/step - loss: 0.1002 - accuracy: 0.7927\n",
            "Epoch 3/50\n",
            "2436/2436 [==============================] - 10s 4ms/step - loss: 0.0838 - accuracy: 0.8218\n",
            "Epoch 4/50\n",
            "2436/2436 [==============================] - 10s 4ms/step - loss: 0.0765 - accuracy: 0.8477\n",
            "Epoch 5/50\n",
            "2436/2436 [==============================] - 10s 4ms/step - loss: 0.0701 - accuracy: 0.8678\n",
            "Epoch 6/50\n",
            "2436/2436 [==============================] - 10s 4ms/step - loss: 0.0664 - accuracy: 0.8727\n",
            "Epoch 7/50\n",
            "2436/2436 [==============================] - 10s 4ms/step - loss: 0.0624 - accuracy: 0.8818\n",
            "Epoch 8/50\n",
            "2436/2436 [==============================] - 10s 4ms/step - loss: 0.0598 - accuracy: 0.8912\n",
            "Epoch 9/50\n",
            "2436/2436 [==============================] - 10s 4ms/step - loss: 0.0573 - accuracy: 0.8957\n",
            "Epoch 10/50\n",
            "2436/2436 [==============================] - 10s 4ms/step - loss: 0.0553 - accuracy: 0.9002\n",
            "Epoch 11/50\n",
            "2436/2436 [==============================] - 10s 4ms/step - loss: 0.0530 - accuracy: 0.9076\n",
            "Epoch 12/50\n",
            "2436/2436 [==============================] - 10s 4ms/step - loss: 0.0511 - accuracy: 0.9076\n",
            "Epoch 13/50\n",
            "2436/2436 [==============================] - 10s 4ms/step - loss: 0.0498 - accuracy: 0.9117\n",
            "Epoch 14/50\n",
            "2436/2436 [==============================] - 10s 4ms/step - loss: 0.0477 - accuracy: 0.9163\n",
            "Epoch 15/50\n",
            "2436/2436 [==============================] - 10s 4ms/step - loss: 0.0460 - accuracy: 0.9241\n",
            "Epoch 16/50\n",
            "2436/2436 [==============================] - 10s 4ms/step - loss: 0.0452 - accuracy: 0.9212\n",
            "Epoch 17/50\n",
            "2436/2436 [==============================] - 10s 4ms/step - loss: 0.0442 - accuracy: 0.9253\n",
            "Epoch 18/50\n",
            "2436/2436 [==============================] - 10s 4ms/step - loss: 0.0426 - accuracy: 0.9314\n",
            "Epoch 19/50\n",
            "2436/2436 [==============================] - 10s 4ms/step - loss: 0.0416 - accuracy: 0.9319\n",
            "Epoch 20/50\n",
            "2436/2436 [==============================] - 10s 4ms/step - loss: 0.0409 - accuracy: 0.9331\n",
            "Epoch 21/50\n",
            "2436/2436 [==============================] - 10s 4ms/step - loss: 0.0393 - accuracy: 0.9339\n",
            "Epoch 22/50\n",
            "2436/2436 [==============================] - 10s 4ms/step - loss: 0.0382 - accuracy: 0.9417\n",
            "Epoch 23/50\n",
            "2436/2436 [==============================] - 10s 4ms/step - loss: 0.0381 - accuracy: 0.9351\n",
            "Epoch 24/50\n",
            "2436/2436 [==============================] - 10s 4ms/step - loss: 0.0363 - accuracy: 0.9429\n",
            "Epoch 25/50\n",
            "2436/2436 [==============================] - 10s 4ms/step - loss: 0.0355 - accuracy: 0.9421\n",
            "Epoch 26/50\n",
            "2436/2436 [==============================] - 10s 4ms/step - loss: 0.0345 - accuracy: 0.9483\n",
            "Epoch 27/50\n",
            "2436/2436 [==============================] - 10s 4ms/step - loss: 0.0342 - accuracy: 0.9479\n",
            "Epoch 28/50\n",
            "2436/2436 [==============================] - 10s 4ms/step - loss: 0.0331 - accuracy: 0.9487\n",
            "Epoch 29/50\n",
            "2436/2436 [==============================] - 10s 4ms/step - loss: 0.0324 - accuracy: 0.9524\n",
            "Epoch 30/50\n",
            "2436/2436 [==============================] - 10s 4ms/step - loss: 0.0325 - accuracy: 0.9511\n",
            "Epoch 31/50\n",
            "2436/2436 [==============================] - 10s 4ms/step - loss: 0.0316 - accuracy: 0.9503\n",
            "Epoch 32/50\n",
            "2436/2436 [==============================] - 10s 4ms/step - loss: 0.0309 - accuracy: 0.9557\n",
            "Epoch 33/50\n",
            "2436/2436 [==============================] - 10s 4ms/step - loss: 0.0298 - accuracy: 0.9585\n",
            "Epoch 34/50\n",
            "2436/2436 [==============================] - 10s 4ms/step - loss: 0.0290 - accuracy: 0.9594\n",
            "Epoch 35/50\n",
            "2436/2436 [==============================] - 10s 4ms/step - loss: 0.0288 - accuracy: 0.9589\n",
            "Epoch 36/50\n",
            "2436/2436 [==============================] - 10s 4ms/step - loss: 0.0290 - accuracy: 0.9598\n",
            "Epoch 37/50\n",
            "2436/2436 [==============================] - 10s 4ms/step - loss: 0.0272 - accuracy: 0.9635\n",
            "Epoch 38/50\n",
            "2436/2436 [==============================] - 10s 4ms/step - loss: 0.0267 - accuracy: 0.9655\n",
            "Epoch 39/50\n",
            "2436/2436 [==============================] - 10s 4ms/step - loss: 0.0263 - accuracy: 0.9639\n",
            "Epoch 40/50\n",
            "2436/2436 [==============================] - 10s 4ms/step - loss: 0.0261 - accuracy: 0.9647\n",
            "Epoch 41/50\n",
            "2436/2436 [==============================] - 10s 4ms/step - loss: 0.0249 - accuracy: 0.9704\n",
            "Epoch 42/50\n",
            "2436/2436 [==============================] - 10s 4ms/step - loss: 0.0245 - accuracy: 0.9680\n",
            "Epoch 43/50\n",
            "2436/2436 [==============================] - 10s 4ms/step - loss: 0.0248 - accuracy: 0.9692\n",
            "Epoch 44/50\n",
            "2436/2436 [==============================] - 10s 4ms/step - loss: 0.0238 - accuracy: 0.9700\n",
            "Epoch 45/50\n",
            "2436/2436 [==============================] - 10s 4ms/step - loss: 0.0230 - accuracy: 0.9721\n",
            "Epoch 46/50\n",
            "2436/2436 [==============================] - 10s 4ms/step - loss: 0.0227 - accuracy: 0.9725\n",
            "Epoch 47/50\n",
            "2436/2436 [==============================] - 10s 4ms/step - loss: 0.0232 - accuracy: 0.9700\n",
            "Epoch 48/50\n",
            "2436/2436 [==============================] - 10s 4ms/step - loss: 0.0220 - accuracy: 0.9745\n",
            "Epoch 49/50\n",
            "2436/2436 [==============================] - 10s 4ms/step - loss: 0.0212 - accuracy: 0.9733\n",
            "Epoch 50/50\n",
            "2436/2436 [==============================] - 10s 4ms/step - loss: 0.0208 - accuracy: 0.9787\n",
            "0.8757961783439491\n",
            "Epoch 1/50\n",
            "2421/2421 [==============================] - 10s 4ms/step - loss: 0.1424 - accuracy: 0.6985\n",
            "Epoch 2/50\n",
            "2421/2421 [==============================] - 10s 4ms/step - loss: 0.0890 - accuracy: 0.8187\n",
            "Epoch 3/50\n",
            "2421/2421 [==============================] - 10s 4ms/step - loss: 0.0770 - accuracy: 0.8422\n",
            "Epoch 4/50\n",
            "2421/2421 [==============================] - 10s 4ms/step - loss: 0.0692 - accuracy: 0.8658\n",
            "Epoch 5/50\n",
            "2421/2421 [==============================] - 10s 4ms/step - loss: 0.0648 - accuracy: 0.8649\n",
            "Epoch 6/50\n",
            "2421/2421 [==============================] - 10s 4ms/step - loss: 0.0605 - accuracy: 0.8794\n",
            "Epoch 7/50\n",
            "2421/2421 [==============================] - 10s 4ms/step - loss: 0.0573 - accuracy: 0.8901\n",
            "Epoch 8/50\n",
            "2421/2421 [==============================] - 10s 4ms/step - loss: 0.0534 - accuracy: 0.9000\n",
            "Epoch 9/50\n",
            "2421/2421 [==============================] - 10s 4ms/step - loss: 0.0511 - accuracy: 0.9079\n",
            "Epoch 10/50\n",
            "2421/2421 [==============================] - 10s 4ms/step - loss: 0.0490 - accuracy: 0.9087\n",
            "Epoch 11/50\n",
            "2421/2421 [==============================] - 10s 4ms/step - loss: 0.0468 - accuracy: 0.9174\n",
            "Epoch 12/50\n",
            "2421/2421 [==============================] - 10s 4ms/step - loss: 0.0448 - accuracy: 0.9199\n",
            "Epoch 13/50\n",
            "2421/2421 [==============================] - 10s 4ms/step - loss: 0.0433 - accuracy: 0.9244\n",
            "Epoch 14/50\n",
            "2421/2421 [==============================] - 10s 4ms/step - loss: 0.0414 - accuracy: 0.9277\n",
            "Epoch 15/50\n",
            "2421/2421 [==============================] - 10s 4ms/step - loss: 0.0398 - accuracy: 0.9347\n",
            "Epoch 16/50\n",
            "2421/2421 [==============================] - 10s 4ms/step - loss: 0.0387 - accuracy: 0.9347\n",
            "Epoch 17/50\n",
            "2421/2421 [==============================] - 10s 4ms/step - loss: 0.0372 - accuracy: 0.9397\n",
            "Epoch 18/50\n",
            "2421/2421 [==============================] - 10s 4ms/step - loss: 0.0359 - accuracy: 0.9438\n",
            "Epoch 19/50\n",
            "2421/2421 [==============================] - 10s 4ms/step - loss: 0.0350 - accuracy: 0.9413\n",
            "Epoch 20/50\n",
            "2421/2421 [==============================] - 10s 4ms/step - loss: 0.0335 - accuracy: 0.9455\n",
            "Epoch 21/50\n",
            "2421/2421 [==============================] - 10s 4ms/step - loss: 0.0330 - accuracy: 0.9521\n",
            "Epoch 22/50\n",
            "2421/2421 [==============================] - 10s 4ms/step - loss: 0.0316 - accuracy: 0.9525\n",
            "Epoch 23/50\n",
            "2421/2421 [==============================] - 10s 4ms/step - loss: 0.0315 - accuracy: 0.9525\n",
            "Epoch 24/50\n",
            "2421/2421 [==============================] - 10s 4ms/step - loss: 0.0305 - accuracy: 0.9558\n",
            "Epoch 25/50\n",
            "2421/2421 [==============================] - 10s 4ms/step - loss: 0.0294 - accuracy: 0.9595\n",
            "Epoch 26/50\n",
            "2421/2421 [==============================] - 10s 4ms/step - loss: 0.0296 - accuracy: 0.9558\n",
            "Epoch 27/50\n",
            "2421/2421 [==============================] - 10s 4ms/step - loss: 0.0283 - accuracy: 0.9579\n",
            "Epoch 28/50\n",
            "2421/2421 [==============================] - 10s 4ms/step - loss: 0.0304 - accuracy: 0.9517\n",
            "Epoch 29/50\n",
            "2421/2421 [==============================] - 10s 4ms/step - loss: 0.0265 - accuracy: 0.9653\n",
            "Epoch 30/50\n",
            "2421/2421 [==============================] - 10s 4ms/step - loss: 0.0259 - accuracy: 0.9632\n",
            "Epoch 31/50\n",
            "2421/2421 [==============================] - 10s 4ms/step - loss: 0.0253 - accuracy: 0.9661\n",
            "Epoch 32/50\n",
            "2421/2421 [==============================] - 10s 4ms/step - loss: 0.0246 - accuracy: 0.9682\n",
            "Epoch 33/50\n",
            "2421/2421 [==============================] - 10s 4ms/step - loss: 0.0244 - accuracy: 0.9678\n",
            "Epoch 34/50\n",
            "2421/2421 [==============================] - 10s 4ms/step - loss: 0.0237 - accuracy: 0.9674\n",
            "Epoch 35/50\n",
            "2421/2421 [==============================] - 10s 4ms/step - loss: 0.0229 - accuracy: 0.9703\n",
            "Epoch 36/50\n",
            "2421/2421 [==============================] - 10s 4ms/step - loss: 0.0226 - accuracy: 0.9698\n",
            "Epoch 37/50\n",
            "2421/2421 [==============================] - 10s 4ms/step - loss: 0.0221 - accuracy: 0.9719\n",
            "Epoch 38/50\n",
            "2421/2421 [==============================] - 10s 4ms/step - loss: 0.0219 - accuracy: 0.9703\n",
            "Epoch 39/50\n",
            "2421/2421 [==============================] - 10s 4ms/step - loss: 0.0215 - accuracy: 0.9748\n",
            "Epoch 40/50\n",
            "2421/2421 [==============================] - 10s 4ms/step - loss: 0.0207 - accuracy: 0.9744\n",
            "Epoch 41/50\n",
            "2421/2421 [==============================] - 10s 4ms/step - loss: 0.0203 - accuracy: 0.9781\n",
            "Epoch 42/50\n",
            "2421/2421 [==============================] - 10s 4ms/step - loss: 0.0201 - accuracy: 0.9769\n",
            "Epoch 43/50\n",
            "2421/2421 [==============================] - 10s 4ms/step - loss: 0.0195 - accuracy: 0.9760\n",
            "Epoch 44/50\n",
            "2421/2421 [==============================] - 10s 4ms/step - loss: 0.0188 - accuracy: 0.9781\n",
            "Epoch 45/50\n",
            "2421/2421 [==============================] - 10s 4ms/step - loss: 0.0185 - accuracy: 0.9777\n",
            "Epoch 46/50\n",
            "2421/2421 [==============================] - 10s 4ms/step - loss: 0.0181 - accuracy: 0.9802\n",
            "Epoch 47/50\n",
            "2421/2421 [==============================] - 10s 4ms/step - loss: 0.0179 - accuracy: 0.9818\n",
            "Epoch 48/50\n",
            "2421/2421 [==============================] - 10s 4ms/step - loss: 0.0175 - accuracy: 0.9831\n",
            "Epoch 49/50\n",
            "2421/2421 [==============================] - 10s 4ms/step - loss: 0.0175 - accuracy: 0.9822\n",
            "Epoch 50/50\n",
            "2421/2421 [==============================] - 10s 4ms/step - loss: 0.0168 - accuracy: 0.9827\n",
            "0.8227060653188181\n"
          ],
          "name": "stdout"
        }
      ]
    },
    {
      "cell_type": "code",
      "metadata": {
        "id": "ruY1s0AV_zAe",
        "colab_type": "code",
        "colab": {
          "base_uri": "https://localhost:8080/",
          "height": 1000
        },
        "outputId": "7f51773b-1ece-4256-df73-b43f72cdaf55"
      },
      "source": [
        "print('=====================================================================================')\n",
        "print('=========================   FOLD WISE RESULT ========================================')\n",
        "print('=====================================================================================')\n",
        "for i in range(5):\n",
        "  print('=========================   FOLD ' + str(i+1) + ' RESULT ========================================')\n",
        "  print('Training Time : ' + str(fold_wise_train_time[i]))\n",
        "  print('Testing Time : ' + str(fold_wise_test_time[i]))\n",
        "  print('accuracy : ' + str(fold_wise_accuracy[i]))\n",
        "  print('confusion matrix :')\n",
        "  print(fold_wise_confusion[i])\n",
        "  print('accuracy convergence')\n",
        "  plt.plot(fold_wise_history[i]['accuracy'])\n",
        "  plt.title('accuarcy for fold ' + str(i+1))\n",
        "  plt.xlabel('epoch')\n",
        "  plt.ylabel('accuracy')\n",
        "  plt.show()\n",
        "  print('loss convergence')\n",
        "  plt.plot(fold_wise_history[i]['loss'])\n",
        "  plt.title('loss for fold ' + str(i+1))\n",
        "  plt.xlabel('epoch')\n",
        "  plt.ylabel('loss')\n",
        "  plt.show()"
      ],
      "execution_count": 16,
      "outputs": [
        {
          "output_type": "stream",
          "text": [
            "=====================================================================================\n",
            "=========================   FOLD WISE RESULT ========================================\n",
            "=====================================================================================\n",
            "=========================   FOLD 1 RESULT ========================================\n",
            "Training Time : 547.0469746589661\n",
            "Testing Time : 2.3598039150238037\n",
            "accuracy : 0.8708487084870848\n",
            "confusion matrix :\n",
            "[[ 94  16   2]\n",
            " [ 24 221   0]\n",
            " [ 23   5 157]]\n",
            "accuracy convergence\n"
          ],
          "name": "stdout"
        },
        {
          "output_type": "display_data",
          "data": {
            "image/png": "[encoded data removed]",
            "text/plain": [
              "<Figure size 432x288 with 1 Axes>"
            ]
          },
          "metadata": {
            "tags": [],
            "needs_background": "light"
          }
        },
        {
          "output_type": "stream",
          "text": [
            "loss convergence\n"
          ],
          "name": "stdout"
        },
        {
          "output_type": "display_data",
          "data": {
            "image/png": "[encoded data removed]",
            "text/plain": [
              "<Figure size 432x288 with 1 Axes>"
            ]
          },
          "metadata": {
            "tags": [],
            "needs_background": "light"
          }
        },
        {
          "output_type": "stream",
          "text": [
            "=========================   FOLD 2 RESULT ========================================\n",
            "Training Time : 510.9987986087799\n",
            "Testing Time : 3.4342427253723145\n",
            "accuracy : 0.8159057437407953\n",
            "confusion matrix :\n",
            "[[ 92  61  14]\n",
            " [ 27 306   5]\n",
            " [ 13   5 156]]\n",
            "accuracy convergence\n"
          ],
          "name": "stdout"
        },
        {
          "output_type": "display_data",
          "data": {
            "image/png": "[encoded data removed]",
            "text/plain": [
              "<Figure size 432x288 with 1 Axes>"
            ]
          },
          "metadata": {
            "tags": [],
            "needs_background": "light"
          }
        },
        {
          "output_type": "stream",
          "text": [
            "loss convergence\n"
          ],
          "name": "stdout"
        },
        {
          "output_type": "display_data",
          "data": {
            "image/png": "[encoded data removed]",
            "text/plain": [
              "<Figure size 432x288 with 1 Axes>"
            ]
          },
          "metadata": {
            "tags": [],
            "needs_background": "light"
          }
        },
        {
          "output_type": "stream",
          "text": [
            "=========================   FOLD 3 RESULT ========================================\n",
            "Training Time : 526.127002954483\n",
            "Testing Time : 2.4468657970428467\n",
            "accuracy : 0.8321678321678322\n",
            "confusion matrix :\n",
            "[[ 91  45   3]\n",
            " [ 38 190   3]\n",
            " [  1   6 195]]\n",
            "accuracy convergence\n"
          ],
          "name": "stdout"
        },
        {
          "output_type": "display_data",
          "data": {
            "image/png": "[encoded data removed]",
            "text/plain": [
              "<Figure size 432x288 with 1 Axes>"
            ]
          },
          "metadata": {
            "tags": [],
            "needs_background": "light"
          }
        },
        {
          "output_type": "stream",
          "text": [
            "loss convergence\n"
          ],
          "name": "stdout"
        },
        {
          "output_type": "display_data",
          "data": {
            "image/png": "[encoded data removed]",
            "text/plain": [
              "<Figure size 432x288 with 1 Axes>"
            ]
          },
          "metadata": {
            "tags": [],
            "needs_background": "light"
          }
        },
        {
          "output_type": "stream",
          "text": [
            "=========================   FOLD 4 RESULT ========================================\n",
            "Training Time : 513.811342716217\n",
            "Testing Time : 2.962141990661621\n",
            "accuracy : 0.8757961783439491\n",
            "confusion matrix :\n",
            "[[ 96  19   9]\n",
            " [ 30 290   5]\n",
            " [  8   7 164]]\n",
            "accuracy convergence\n"
          ],
          "name": "stdout"
        },
        {
          "output_type": "display_data",
          "data": {
            "image/png": "[encoded data removed]",
            "text/plain": [
              "<Figure size 432x288 with 1 Axes>"
            ]
          },
          "metadata": {
            "tags": [],
            "needs_background": "light"
          }
        },
        {
          "output_type": "stream",
          "text": [
            "loss convergence\n"
          ],
          "name": "stdout"
        },
        {
          "output_type": "display_data",
          "data": {
            "image/png": "[encoded data removed]",
            "text/plain": [
              "<Figure size 432x288 with 1 Axes>"
            ]
          },
          "metadata": {
            "tags": [],
            "needs_background": "light"
          }
        },
        {
          "output_type": "stream",
          "text": [
            "=========================   FOLD 5 RESULT ========================================\n",
            "Training Time : 512.1959743499756\n",
            "Testing Time : 2.9559452533721924\n",
            "accuracy : 0.8227060653188181\n",
            "confusion matrix :\n",
            "[[ 98  39  29]\n",
            " [ 36 251   0]\n",
            " [  5   5 180]]\n",
            "accuracy convergence\n"
          ],
          "name": "stdout"
        },
        {
          "output_type": "display_data",
          "data": {
            "image/png": "[encoded data removed]",
            "text/plain": [
              "<Figure size 432x288 with 1 Axes>"
            ]
          },
          "metadata": {
            "tags": [],
            "needs_background": "light"
          }
        },
        {
          "output_type": "stream",
          "text": [
            "loss convergence\n"
          ],
          "name": "stdout"
        },
        {
          "output_type": "display_data",
          "data": {
            "image/png": "[encoded data removed]",
            "text/plain": [
              "<Figure size 432x288 with 1 Axes>"
            ]
          },
          "metadata": {
            "tags": [],
            "needs_background": "light"
          }
        }
      ]
    },
    {
      "cell_type": "code",
      "metadata": {
        "id": "csZ9rMgY_zAi",
        "colab_type": "code",
        "colab": {}
      },
      "source": [
        ""
      ],
      "execution_count": 0,
      "outputs": []
    }
  ]
}